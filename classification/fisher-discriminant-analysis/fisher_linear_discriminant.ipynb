{
 "cells": [
  {
   "cell_type": "markdown",
   "id": "5a54fc0c",
   "metadata": {},
   "source": [
    "[![Open In Colab](https://colab.research.google.com/assets/colab-badge.svg)](https://colab.research.google.com/github/niteshjindal170988/supervised-learning/blob/main/classification/fisher-discriminant-analysis/fisher_linear_discriminant.ipynb)\n"
   ]
  },
  {
   "cell_type": "markdown",
   "id": "29aad0ea",
   "metadata": {},
   "source": [
    "# Fischer Discriminant Analysis:\n",
    "<br>\n",
    "The goal is to maximise the separation between the classes. In other words, we are interested in the features that best separate the class. For every feature, compute the mean and standard deviation for every class.<br><br>\n",
    "\n",
    "In order to maximise the separation between classes, their mean has to be as high as possible and their standard deviation should be as low as possible.<br>\n",
    "\n",
    "Means of classes along the dimension f should be High i.e., $\\left(\\mu_{A, f}-\\mu_{B, f}\\right)^{2}$ should be High.\n",
    "Variance of classes along the dimension f should be Low i.e, $n_A*\\sigma_{A,f}^{2}+n_B*\\sigma_{B, f}^{2}$ should be Low.<br>\n",
    "where A and B are the classes, and f represents a feature. n_A and n_B are the number of data points in class A and class B, respectively. We have multiplied the n_A and n_B with variance to capture the scatter as there can be a varying number of data points in classes.\n",
    "\n"
   ]
  },
  {
   "cell_type": "markdown",
   "id": "6e5ca64b",
   "metadata": {},
   "source": [
    "\n",
    "In Fischer Discrimination Analysis, we assume **(first assumption)** that classes have a unimodal distribution if one class has two peaks and is distributed at both extreme ends, while the other class is distributed somewhere in the middle. In such a case, it would be difficult to discriminate between the classes. (The **second assumption** is that if a class's distribution is not normal, we use logs or the necessary transformation to produce a normal distribution shape.<br><br>\n",
    "This approach is different from the Principal Component Analysis (PCA) approach in the way that it just picks the features, i.e., the features that best separate the classes, instead of projecting the features to lower dimensional space. Both approaches are linear transformation techniques and reduces the dimensions in the data.<br><br>\n",
    "\n",
    "**While in PCA, we can get D projections, i.e., as many dimensions are there in the data, in the Fischer Discriminant Analysis, we can get up to C-1 projections, i.e., the number of classes C minus 1.**\n"
   ]
  },
  {
   "cell_type": "markdown",
   "id": "acec2ecc",
   "metadata": {},
   "source": [
    "## FDA implementation on the Iris dataset:"
   ]
  },
  {
   "cell_type": "markdown",
   "id": "18f72cc3",
   "metadata": {},
   "source": [
    "## Import Packages:"
   ]
  },
  {
   "cell_type": "code",
   "execution_count": 3,
   "id": "7815183c",
   "metadata": {},
   "outputs": [],
   "source": [
    "import os\n",
    "import pandas as pd\n",
    "import numpy as np\n",
    "import matplotlib.pyplot as plt # used in q 2 for plots.\n",
    "import seaborn as sns\n",
    "from sklearn.tree import DecisionTreeClassifier # for decision tree- classification case\n",
    "from sklearn import metrics  # for accuracy computation\n",
    "from sklearn.model_selection import train_test_split  # splitting dataset in train test data\n",
    "import math  # for log functions during entropy calculations\n",
    "from sklearn.preprocessing import StandardScaler # during PCA on MNIST data \n",
    "from sklearn.discriminant_analysis import LinearDiscriminantAnalysis as LDA\n",
    "from sklearn.neighbors import KNeighborsClassifier # for question 5 \n",
    "from sklearn.metrics import confusion_matrix\n",
    "from sklearn.preprocessing import StandardScaler\n",
    "from IPython.display import display"
   ]
  },
  {
   "cell_type": "code",
   "execution_count": 4,
   "id": "88718aa1",
   "metadata": {},
   "outputs": [
    {
     "name": "stdout",
     "output_type": "stream",
     "text": [
      "Requirement already satisfied: gdown==4.2.0 in /home/nitesh/env/dev37/python37/lib/python3.7/site-packages (4.2.0)\n",
      "Requirement already satisfied: beautifulsoup4 in /home/nitesh/env/dev37/python37/lib/python3.7/site-packages (from gdown==4.2.0) (4.11.1)\n",
      "Requirement already satisfied: requests[socks] in /home/nitesh/env/dev37/python37/lib/python3.7/site-packages (from gdown==4.2.0) (2.28.0)\n",
      "Requirement already satisfied: filelock in /home/nitesh/env/dev37/python37/lib/python3.7/site-packages (from gdown==4.2.0) (3.7.1)\n",
      "Requirement already satisfied: six in /home/nitesh/env/dev37/python37/lib/python3.7/site-packages (from gdown==4.2.0) (1.16.0)\n",
      "Requirement already satisfied: tqdm in /home/nitesh/env/dev37/python37/lib/python3.7/site-packages (from gdown==4.2.0) (4.64.0)\n",
      "Requirement already satisfied: soupsieve>1.2 in /home/nitesh/env/dev37/python37/lib/python3.7/site-packages (from beautifulsoup4->gdown==4.2.0) (2.3.2.post1)\n",
      "Requirement already satisfied: urllib3<1.27,>=1.21.1 in /home/nitesh/env/dev37/python37/lib/python3.7/site-packages (from requests[socks]->gdown==4.2.0) (1.26.9)\n",
      "Requirement already satisfied: certifi>=2017.4.17 in /home/nitesh/env/dev37/python37/lib/python3.7/site-packages (from requests[socks]->gdown==4.2.0) (2022.6.15)\n",
      "Requirement already satisfied: idna<4,>=2.5 in /home/nitesh/env/dev37/python37/lib/python3.7/site-packages (from requests[socks]->gdown==4.2.0) (3.3)\n",
      "Requirement already satisfied: charset-normalizer~=2.0.0 in /home/nitesh/env/dev37/python37/lib/python3.7/site-packages (from requests[socks]->gdown==4.2.0) (2.0.12)\n",
      "Requirement already satisfied: PySocks!=1.5.7,>=1.5.6 in /home/nitesh/env/dev37/python37/lib/python3.7/site-packages (from requests[socks]->gdown==4.2.0) (1.7.1)\n",
      "\u001b[33mWARNING: You are using pip version 22.0.4; however, version 22.1.2 is available.\n",
      "You should consider upgrading via the '/home/nitesh/env/dev37/python37/bin/python3.7 -m pip install --upgrade pip' command.\u001b[0m\u001b[33m\n",
      "\u001b[0mNote: you may need to restart the kernel to use updated packages.\n"
     ]
    },
    {
     "name": "stderr",
     "output_type": "stream",
     "text": [
      "Downloading...\n",
      "From: https://drive.google.com/uc?id=10JjVR2tNxN0w1uHW-5iRsvXuZGKxUp92\n",
      "To: /home/nitesh/env/dev37/repos/supervised-learning/classification/fisher-discriminant-analysis/Iris.csv\n",
      "100%|██████████| 5.11k/5.11k [00:00<00:00, 4.08MB/s]\n"
     ]
    },
    {
     "data": {
      "text/plain": [
       "'Iris.csv'"
      ]
     },
     "execution_count": 4,
     "metadata": {},
     "output_type": "execute_result"
    }
   ],
   "source": [
    "%pip install --trusted-host pypi.org --trusted-host pypi.python.org --trusted-host files.pythonhosted.org gdown==4.2.0\n",
    "import gdown\n",
    "import warnings\n",
    "warnings.filterwarnings(\"ignore\")\n",
    "\n",
    "url = 'https://drive.google.com/uc?id=10JjVR2tNxN0w1uHW-5iRsvXuZGKxUp92'\n",
    "output = 'Iris.csv'\n",
    "gdown.download(url, output, quiet=False, verify=False)\n"
   ]
  },
  {
   "cell_type": "code",
   "execution_count": 5,
   "id": "483b68ce",
   "metadata": {},
   "outputs": [
    {
     "name": "stdout",
     "output_type": "stream",
     "text": [
      "predictors_train_iris shape: (105, 4)\n",
      "predictors_test_iris shape: (45, 4)\n",
      "response_train_iris shape: (105,)\n",
      "response_test_iris shape: (45,)\n"
     ]
    }
   ],
   "source": [
    "'Load the iris data'\n",
    "irisdata = pd.read_csv(\"Iris.csv\")\n",
    "%rm \"Iris.csv\"\n",
    "\n",
    "predictors= irisdata[irisdata.columns[1:5]].values\n",
    "response = irisdata['Species']\n",
    "# iris\n",
    "predictors_train, predictors_test, response_train, response_test=train_test_split(predictors, response, test_size=0.3, random_state=11915048)\n",
    "\n",
    "print(\"predictors_train_iris shape:\", predictors_train.shape)\n",
    "print(\"predictors_test_iris shape:\", predictors_test.shape)\n",
    "print(\"response_train_iris shape:\", response_train.shape)\n",
    "print(\"response_test_iris shape:\", response_test.shape)"
   ]
  },
  {
   "cell_type": "markdown",
   "id": "b00d0e86",
   "metadata": {},
   "source": [
    "## Scatter plot \n",
    "<br>\n",
    "Visualize the distribution of class labels, viz., setosa, versicolor, virginica along each dimension."
   ]
  },
  {
   "cell_type": "code",
   "execution_count": 5,
   "id": "89ed2e15",
   "metadata": {},
   "outputs": [
    {
     "data": {
      "image/png": "[encoded data removed]",
      "text/plain": [
       "<Figure size 463.25x360 with 1 Axes>"
      ]
     },
     "metadata": {
      "needs_background": "light"
     },
     "output_type": "display_data"
    },
    {
     "data": {
      "image/png": "[encoded data removed]",
      "text/plain": [
       "<Figure size 643x500 with 1 Axes>"
      ]
     },
     "metadata": {},
     "output_type": "display_data"
    },
    {
     "data": {
      "image/png": "[encoded data removed]",
      "text/plain": [
       "<Figure size 643x500 with 1 Axes>"
      ]
     },
     "metadata": {},
     "output_type": "display_data"
    },
    {
     "data": {
      "image/png": "[encoded data removed]",
      "text/plain": [
       "<Figure size 643x500 with 1 Axes>"
      ]
     },
     "metadata": {},
     "output_type": "display_data"
    }
   ],
   "source": [
    "import warnings\n",
    "warnings.filterwarnings(\"ignore\")\n",
    "sns.FacetGrid(irisdata, hue=\"Species\", height=5).map(sns.distplot, \"SepalLengthCm\").add_legend()\n",
    "sns.FacetGrid(irisdata, hue=\"Species\", height=5).map(sns.distplot, \"SepalWidthCm\").add_legend()\n",
    "sns.FacetGrid(irisdata, hue=\"Species\", height=5).map(sns.distplot, \"PetalLengthCm\").add_legend()\n",
    "sns.FacetGrid(irisdata, hue=\"Species\", height=5).map(sns.distplot, \"PetalWidthCm\").add_legend()\n",
    "\n",
    "plt.show()"
   ]
  },
  {
   "cell_type": "markdown",
   "id": "b711c882",
   "metadata": {},
   "source": [
    "From the above plots, it is apparent that class labels, Iris-virginica and Iris-versicolor, are more similar to each other since their distribution partially or completely overlaps over each other across all the individual dimensions, whereas class Iris-setosa's distribution discriminates against the other two classes' distributions.\n"
   ]
  },
  {
   "cell_type": "markdown",
   "id": "54507ee5",
   "metadata": {},
   "source": [
    "## Combine Iris- virginica and Iris-versicolor classes\n",
    "\n",
    "we will now create a metaclass by coalescing the classes Iris- virginica and Iris- versicolor into a single class and then implement Fisher projection by discriminating merged classes with the other class."
   ]
  },
  {
   "cell_type": "code",
   "execution_count": 6,
   "id": "f42bba6f",
   "metadata": {},
   "outputs": [],
   "source": [
    "target_train = np.array(response_train.replace(['Iris-setosa', 'Iris-versicolor', 'Iris-virginica'], [1, 2, 2]))\n",
    "target_test = np.array(response_test.replace(['Iris-setosa', 'Iris-versicolor', 'Iris-virginica'], [1, 2, 2]))"
   ]
  },
  {
   "cell_type": "markdown",
   "id": "96f87f1a",
   "metadata": {},
   "source": [
    "## Fischer Projection - 1\n",
    "<br>\n",
    "Create the Fisher projection by discriminating class **1** and class **2**."
   ]
  },
  {
   "cell_type": "markdown",
   "id": "95934861",
   "metadata": {},
   "source": [
    "#### Mean Vector"
   ]
  },
  {
   "cell_type": "code",
   "execution_count": 25,
   "id": "09915176",
   "metadata": {},
   "outputs": [
    {
     "name": "stdout",
     "output_type": "stream",
     "text": [
      "Mean Vector of Classes:\n",
      " [array([5.04324324, 3.45135135, 1.45675676, 0.24054054]), array([6.24264706, 2.84558824, 4.93235294, 1.68676471])]\n"
     ]
    }
   ],
   "source": [
    "\"mean vector corresponding to each class\"\n",
    "mean_vec = []\n",
    "for i in tuple(set(target_train)):\n",
    "    # mean vector for both classes ; axis = 0 refers to colsum\n",
    "    mean_vec.append(np.mean(predictors_train[target_train == i], axis = 0))  # 'mean' value  for each of two class label.\n",
    "    \n",
    "print(\"Mean Vector of Classes:\\n\", mean_vec)\n"
   ]
  },
  {
   "cell_type": "markdown",
   "id": "434f9d18",
   "metadata": {},
   "source": [
    "#### Within Class Scatter Matrix "
   ]
  },
  {
   "cell_type": "code",
   "execution_count": 9,
   "id": "6b1ec897",
   "metadata": {},
   "outputs": [
    {
     "name": "stdout",
     "output_type": "stream",
     "text": [
      "within class scatter matrix:\n",
      " [[36.77713434 13.49563196 36.33536566 13.57351749]\n",
      " [13.49563196 13.1411089  13.02186804  7.22400238]\n",
      " [36.33536566 13.02186804 55.79963434 23.15398251]\n",
      " [13.57351749  7.22400238 23.15398251 14.16727742]]\n"
     ]
    }
   ],
   "source": [
    "\"within class scatter matrices: scatter matrix corresponding to each class\"\n",
    "\n",
    "within_class_scattermatrix = np.zeros((4,4))  # we have 4 dimensions so initiaize a 4*4 matrix.\n",
    "\n",
    "for i, mc in zip(tuple(set(target_train)), mean_vec):\n",
    "    scatter_matrix = np.zeros((4,4))\n",
    "    for obs in predictors_train[target_train == i]:\n",
    "        obs, mc = obs.reshape(4,1), mc.reshape(4,1)\n",
    "        val=(obs-mc).dot((obs-mc).T) # make column vectors\n",
    "        scatter_matrix += val  # (x-mu).dot.Transpose(x-mu) to obtain the scatter matrix for each class\n",
    "    within_class_scattermatrix += scatter_matrix      # sum class scatter matrices\n",
    "    #within class scatter matrix has total variance which is sum of variance from each class.\n",
    "print(\"within class scatter matrix:\\n\",within_class_scattermatrix)\n"
   ]
  },
  {
   "cell_type": "markdown",
   "id": "38e65fc8",
   "metadata": {},
   "source": [
    "#### Between Class Scatter Matrix \n",
    "<br>\n",
    "Take mean of datapoints in each class i.e., sum of the means of both the classes. "
   ]
  },
  {
   "cell_type": "code",
   "execution_count": 10,
   "id": "94100895",
   "metadata": {},
   "outputs": [
    {
     "name": "stdout",
     "output_type": "stream",
     "text": [
      "\n",
      "\n",
      "Between class scatter matrix:\n",
      " [[ 34.47086566 -17.40963196  99.88863434  41.56448251]\n",
      " [-17.40963196   8.79279586 -50.44910614 -20.9922881 ]\n",
      " [ 99.88863434 -50.44910614 289.45427042 120.4443032 ]\n",
      " [ 41.56448251 -20.9922881  120.4443032   50.11786543]]\n"
     ]
    }
   ],
   "source": [
    "overall_mean = np.mean(predictors_train, axis=0)\n",
    "\n",
    "#initialise 4*4 dimensional scatter matrix with zeros-\n",
    "between_class_scattermatrix = np.zeros((4,4))\n",
    "for i, m in enumerate(mean_vec,0): \n",
    "    # sample size for each class. It will be multiplied while calc between class scatter matrix.\n",
    "    sample_size = predictors_train[target_train==i+1,:].shape[0]   \n",
    "    m = m.reshape(4,1) # make column vector of mean vector with shape (4,1)\n",
    "    overall_mean = overall_mean.reshape(4,1) # make column vector of mean of entire data with shape (4,1)\n",
    "    between_class_scattermatrix += sample_size * (m - overall_mean).dot((m- overall_mean).T)\n",
    "print(\"\\n\")\n",
    "print(\"Between class scatter matrix:\\n\", between_class_scattermatrix)"
   ]
  },
  {
   "cell_type": "markdown",
   "id": "1eb39bc5",
   "metadata": {},
   "source": [
    "#### Compute Eigen Vectors and Eigen Values"
   ]
  },
  {
   "cell_type": "code",
   "execution_count": 14,
   "id": "b89c09be",
   "metadata": {},
   "outputs": [
    {
     "name": "stdout",
     "output_type": "stream",
     "text": [
      "\n",
      "Eigenvector 1: \n",
      "[[-0.91453855]\n",
      " [-0.32543738]\n",
      " [ 0.21140209]\n",
      " [ 0.1141004 ]]\n",
      "Eigenvalue 1: 0.00e+00\n",
      "\n",
      "Eigenvector 2: \n",
      "[[-0.1332431 ]\n",
      " [-0.79737103]\n",
      " [ 0.51796724]\n",
      " [ 0.27956332]]\n",
      "Eigenvalue 2: 1.04e+01\n",
      "\n",
      "Eigenvector 3: \n",
      "[[-0.39391244]\n",
      " [ 0.41169416]\n",
      " [ 0.48403515]\n",
      " [-0.66411662]]\n",
      "Eigenvalue 3: 5.36e-15\n",
      "\n",
      "Eigenvector 4: \n",
      "[[-0.32473468]\n",
      " [ 0.89757043]\n",
      " [ 0.29253737]\n",
      " [-0.0577633 ]]\n",
      "Eigenvalue 4: 1.31e-15\n",
      "Sorted Eigenvalue and Eigenvector pairs: \n",
      "\n",
      "[(10.447127379301534, array([-0.1332431 , -0.79737103,  0.51796724,  0.27956332])), (5.361821647744845e-15, array([-0.39391244,  0.41169416,  0.48403515, -0.66411662])), (1.3101199696770006e-15, array([-0.32473468,  0.89757043,  0.29253737, -0.0577633 ])), (0.0, array([-0.91453855, -0.32543738,  0.21140209,  0.1141004 ]))]\n"
     ]
    }
   ],
   "source": [
    "\"Compute Eigen values & Eigen vectors\"\n",
    "#Fisher projection = (S^-1 * B) which is 4*4 matrix.\n",
    "eigenval, eigenvect = np.linalg.eig(np.linalg.inv(within_class_scattermatrix).dot(between_class_scattermatrix)) \n",
    "#Each eigen vector has corresponding eigen value\n",
    "for i in range(len(eigenval)):\n",
    "    ev = eigenvect[:,i].reshape(4,1)   \n",
    "    print('\\nEigenvector {}: \\n{}'.format(i+1, ev))\n",
    "    print('Eigenvalue {:}: {:.2e}'.format(i+1, eigenval[i]))\n",
    "    \n",
    "\"Sort Eigen value and eigen vector after making their pair\"\n",
    "# eigen value and eigen vector pair - \n",
    "ep = [(np.abs(eigenval[i]), eigenvect[:,i]) for i in range(len(eigenval))]\n",
    "# sort eigen values( eigen values with their respective eigen vector) in descending order -\n",
    "ep1 = sorted(ep, key=lambda l: l[0], reverse=True)\n",
    "print(\"Sorted Eigenvalue and Eigenvector pairs: \\n\")\n",
    "print(ep1)"
   ]
  },
  {
   "cell_type": "markdown",
   "id": "2f1368e9",
   "metadata": {},
   "source": [
    "Eigen vector with the lowest corresponding eigen value is having minimal information about the distribution. Extract the first eigen vector and value that captures maximum information and best separate the two classes.\n"
   ]
  },
  {
   "cell_type": "markdown",
   "id": "5bf272a2",
   "metadata": {},
   "source": [
    "#### Top two eigen vectors and project the test data on these vectors"
   ]
  },
  {
   "cell_type": "code",
   "execution_count": 18,
   "id": "e428eb0d",
   "metadata": {},
   "outputs": [
    {
     "name": "stdout",
     "output_type": "stream",
     "text": [
      "Top two projection: \n",
      " [[-0.1332431  -0.39391244]\n",
      " [-0.79737103  0.41169416]\n",
      " [ 0.51796724  0.48403515]\n",
      " [ 0.27956332 -0.66411662]]\n",
      "\n",
      "\n",
      "projected data in two dimensions(LDA1 and LDA2):\n",
      "\n",
      "    projection0  projection1  target\n",
      "0     -1.676321    -0.395699       1\n",
      "1     -2.465968     0.150613       1\n",
      "2     -2.293170     0.107666       1\n",
      "3      0.100048     0.143730       2\n",
      "4     -0.658454    -0.094764       2\n",
      "5     -0.361637     0.012422       2\n",
      "6     -0.016121    -0.165700       2\n",
      "7     -0.589009     0.089321       2\n",
      "8     -0.411997    -0.019465       2\n",
      "9      0.384511    -0.372897       2\n",
      "10    -0.370732    -0.069647       2\n",
      "11    -0.510788    -0.084171       2\n",
      "12    -0.007121    -0.222599       2\n",
      "13     0.247091     0.033640       2\n",
      "14    -2.383439     0.050250       1\n",
      "15     0.430261    -0.118756       2\n",
      "16    -0.163643     0.008579       2\n",
      "17     0.048920    -0.193712       2\n",
      "18    -0.097150     0.043825       2\n",
      "19    -0.433843    -0.066147       2\n",
      "20    -0.505027     0.028635       2\n",
      "21    -0.299324     0.136249       2\n",
      "22    -2.699788    -0.098622       1\n",
      "23    -0.601073    -0.164748       2\n",
      "24    -0.651176     0.150365       2\n",
      "25    -0.069289    -0.161555       2\n",
      "26    -0.191470     0.236701       2\n",
      "27    -0.361428     0.289939       2\n",
      "28    -2.319834     0.005722       1\n",
      "29     0.100080     0.190053       2\n",
      "30    -0.830423    -0.132822       2\n",
      "31    -2.836890     0.035693       1\n",
      "32    -0.106599    -0.500633       2\n",
      "33    -2.173668    -0.092847       1\n",
      "34    -0.030897    -0.268349       2\n",
      "35    -0.732366     0.151857       2\n",
      "36    -2.251905     0.057484       1\n",
      "37    -3.300729     0.107423       1\n",
      "38    -0.011092     0.143500       2\n",
      "39    -2.514957     0.066177       1\n",
      "40    -2.661315    -0.089610       1\n",
      "41    -0.430858     0.129015       2\n",
      "42     0.472133    -0.071416       2\n",
      "43    -2.436704    -0.060992       1\n",
      "44     0.247091     0.033640       2\n"
     ]
    }
   ],
   "source": [
    "top_2_eigenvect = np.hstack((ep1[0][1].reshape(4,1), ep1[1][1].reshape(4,1)))  \n",
    "print(\"Top two projection: \\n\", top_2_eigenvect) \n",
    "\n",
    "lda_data = predictors_test.dot(top_2_eigenvect) # choose predictors_test_iris which is test features set.\n",
    "print(\"\\n\")\n",
    "\n",
    "colnames = []\n",
    "for i in range(0,2):\n",
    "    colnames.append(\"projection\" + str(i))\n",
    "    \n",
    "lda_iris  = pd.DataFrame(data = lda_data, columns = colnames, dtype = None)\n",
    "lda_iris['target'] = target_test  # append label column to projected data frame\n",
    "print(\"projected data in two dimensions(LDA1 and LDA2):\\n\")\n",
    "print(lda_iris)\n"
   ]
  },
  {
   "cell_type": "markdown",
   "id": "4a4e2c0f",
   "metadata": {},
   "source": [
    "#### Plot the two projections in 2D space"
   ]
  },
  {
   "cell_type": "code",
   "execution_count": 20,
   "id": "429ba532",
   "metadata": {},
   "outputs": [
    {
     "data": {
      "image/png": "[encoded data removed]",
      "text/plain": [
       "<Figure size 720x720 with 1 Axes>"
      ]
     },
     "metadata": {
      "needs_background": "light"
     },
     "output_type": "display_data"
    }
   ],
   "source": [
    "lbl_grp = lda_iris.groupby('target')\n",
    "fig, ax = plt.subplots(figsize=(10, 10))\n",
    "fig.suptitle('Top two projections after FDA on dissimilar classes')\n",
    "plt.xlabel('projection0')\n",
    "plt.ylabel('projection1')\n",
    "ax.margins(0.001) # Optional, just adds 5% padding to the autoscaling\n",
    "for name, group in lbl_grp:\n",
    "    ax.plot(group.projection0, group.projection1, marker='o', linestyle='', ms=8, label=name)\n",
    "ax.legend()\n",
    "\n",
    "plt.show()"
   ]
  },
  {
   "cell_type": "markdown",
   "id": "880c4e5c",
   "metadata": {},
   "source": [
    "## Combine Iris- virginica and Iris-versicolor classes\n",
    "we will now create a metaclass by coalescing the classes Iris- virginica and Iris- versicolor into a single class and then implement Fisher projection by discriminating merged classes with the other class."
   ]
  },
  {
   "cell_type": "code",
   "execution_count": 110,
   "id": "64882edd",
   "metadata": {},
   "outputs": [
    {
     "name": "stdout",
     "output_type": "stream",
     "text": [
      "predictors_train_iris shape: (70, 4)\n",
      "predictors_test_iris shape: (30, 4)\n",
      "response_train_iris shape: (70,)\n",
      "response_test_iris shape: (30,)\n"
     ]
    }
   ],
   "source": [
    "iris_nw=irisdata[(irisdata[\"Species\"] == \"Iris-virginica\") |\n",
    "                        (irisdata[\"Species\"] == \"Iris-versicolor\")]\n",
    "iris_nw['Species']= iris_nw['Species'].map({'Iris-versicolor':1, 'Iris-virginica':2 })\n",
    "# iris_nw = iris_nw[iris_nw.Species.replace(['Iris-versicolor', 'Iris-virginica'], [1, 2])]\n",
    "#df[(df['alcohol'] > 14.3) & (df['hue'] > 1.0)]\n",
    "predictors= iris_nw[iris_nw.columns[1:5]].values\n",
    "response = iris_nw['Species']\n",
    "predictors_train, predictors_test, response_train, response_test=train_test_split(predictors, response, test_size=0.3, random_state=11915048)\n",
    "\n",
    "print(\"predictors_train_iris shape:\", predictors_train.shape)\n",
    "print(\"predictors_test_iris shape:\", predictors_test.shape)\n",
    "print(\"response_train_iris shape:\", response_train.shape)\n",
    "print(\"response_test_iris shape:\", response_test.shape)\n",
    "\n",
    "classval=np.array(response_train)\n",
    "classval"
   ]
  },
  {
   "cell_type": "markdown",
   "id": "5e8a5a83",
   "metadata": {},
   "source": [
    "#### Mean Vector"
   ]
  },
  {
   "cell_type": "code",
   "execution_count": 120,
   "id": "c7f8a87e",
   "metadata": {},
   "outputs": [
    {
     "name": "stdout",
     "output_type": "stream",
     "text": [
      "Mean of both the classes:\n",
      " [array([5.96, 2.79, 4.23, 1.32]), array([6.69, 2.97, 5.58, 2.  ])]\n",
      "\n",
      "\n"
     ]
    }
   ],
   "source": [
    "np.set_printoptions(precision=2, suppress = False)\n",
    "\n",
    "mean_class = []\n",
    "for i in range(1,3):\n",
    "    # mean vector for both the different classes ; axis = 0 refers to colsum\n",
    "    mean_class.append(np.mean(predictors_train[classval == i], axis = 0))  # 'mean' value  for each of two class label.\n",
    "    \n",
    "print(\"Mean of both the classes:\\n\",mean_class)\n",
    "print(\"\\n\")"
   ]
  },
  {
   "cell_type": "markdown",
   "id": "4fdd9ae2",
   "metadata": {},
   "source": [
    "#### Within class scatter matrix"
   ]
  },
  {
   "cell_type": "code",
   "execution_count": 131,
   "id": "64e1ca1d",
   "metadata": {},
   "outputs": [
    {
     "name": "stdout",
     "output_type": "stream",
     "text": [
      "within class scatter matrix:\n",
      " [[24.65  6.58 18.84  4.04]\n",
      " [ 6.58  6.81  5.17  2.5 ]\n",
      " [18.84  5.17 19.89  3.83]\n",
      " [ 4.04  2.5   3.83  3.61]]\n"
     ]
    }
   ],
   "source": [
    "within_class_scattermatrix = np.zeros((4,4))  # since we have 4 dimensions\n",
    "\n",
    "for i, mc in zip(range(1,3), mean_class):                       # range(1,3) since we have two classes i.e. 1, 2.\n",
    "    scatter= np.zeros((4,4))                  # scatter matrix for every class\n",
    "    for obs in predictors_train[classval == i]:\n",
    "        obs, mc = obs.reshape(4,1), mc.reshape(4,1)             # make column vectors\n",
    "        scatter += (obs-mc).dot((obs-mc).T)   # (x-mu).dot.Transpose(x-mu) to obtain the scatter matrix for each class\n",
    "    within_class_scattermatrix += scatter    # sum class scatter matrices\n",
    "    #within class scatter matrix has total variance which is sum of variance from each class.\n",
    "print(\"within class scatter matrix:\\n\",within_class_scattermatrix)\n"
   ]
  },
  {
   "cell_type": "markdown",
   "id": "84f28aa0",
   "metadata": {},
   "source": [
    "#### Between class scatter matrix"
   ]
  },
  {
   "cell_type": "code",
   "execution_count": 132,
   "id": "8364be0a",
   "metadata": {},
   "outputs": [
    {
     "name": "stdout",
     "output_type": "stream",
     "text": [
      "\n",
      "\n",
      "between class scatter matrix:\n",
      " [[ 9.31  2.35 17.25  8.65]\n",
      " [ 2.35  0.6   4.36  2.19]\n",
      " [17.25  4.36 31.94 16.01]\n",
      " [ 8.65  2.19 16.01  8.03]]\n"
     ]
    }
   ],
   "source": [
    "#mean of datapoints in each class - mean of entire data \n",
    "#mean of entire datapoints comprising class 1 datapoints and class2 datapoints. We can call it as mean of entire data -\n",
    "overall_mean = np.mean(predictors_train, axis=0)\n",
    "\n",
    "#initialise 4*4 dimensional scatter matrix with zeros-\n",
    "between_class_scattermatrix = np.zeros((4,4))\n",
    "\n",
    "#In below code, list(enumerate(mean_class,0)) = [(0, array([5.01, 3.42, 1.46, 0.24])), (1, array([6.26, 2.87, 4.91, 1.68]))]\n",
    "# mean_ class is list of 'mean of datapoints' belonging to classes 1 and 2 in a 4 dimensional space.\n",
    "\n",
    "for i,classmean in enumerate(mean_class,0): \n",
    "    # sample size for each class. It will be multiplied while calc between class scatter matrix.\n",
    "    sample_size = predictors_train[classval==i+1,:].shape[0]   \n",
    "    classmean = classmean.reshape(4,1) # make column vector of mean vector with shape (4,1)\n",
    "    overall_mean = overall_mean.reshape(4,1) # make column vector of mean of entire data with shape (4,1)\n",
    "    between_class_scattermatrix += sample_size * (classmean - overall_mean).dot((classmean - overall_mean).T)\n",
    "print(\"\\n\")\n",
    "print(\"between class scatter matrix:\\n\",between_class_scattermatrix)\n"
   ]
  },
  {
   "cell_type": "markdown",
   "id": "5aef7b5f",
   "metadata": {},
   "source": [
    "#### Computer fischer projection: eigen value and eigen vector "
   ]
  },
  {
   "cell_type": "code",
   "execution_count": 133,
   "id": "d2c14ec1",
   "metadata": {},
   "outputs": [
    {
     "name": "stdout",
     "output_type": "stream",
     "text": [
      "\n",
      "Eigenvector 1: \n",
      "[[-0.86+0.j]\n",
      " [-0.13+0.j]\n",
      " [ 0.27+0.j]\n",
      " [ 0.42+0.j]]\n",
      "Eigenvalue 1: 0.00e+00+0.00e+00j\n",
      "\n",
      "Eigenvector 2: \n",
      "[[-0.32+0.j]\n",
      " [-0.24+0.j]\n",
      " [ 0.5 +0.j]\n",
      " [ 0.77+0.j]]\n",
      "Eigenvalue 2: 3.89e+00+0.00e+00j\n",
      "\n",
      "Eigenvector 3: \n",
      "[[-0.  +0.04j]\n",
      " [ 0.92+0.j  ]\n",
      " [-0.13+0.15j]\n",
      " [ 0.01-0.34j]]\n",
      "Eigenvalue 3: 3.78e-16+3.05e-16j\n",
      "\n",
      "Eigenvector 4: \n",
      "[[-0.  -0.04j]\n",
      " [ 0.92-0.j  ]\n",
      " [-0.13-0.15j]\n",
      " [ 0.01+0.34j]]\n",
      "Eigenvalue 4: 3.78e-16-3.05e-16j\n"
     ]
    }
   ],
   "source": [
    "\"Compute Eigen values & Eigen vectors\"\n",
    "np.set_printoptions(precision=2, suppress = False)\n",
    "#Fisher projection = (S^-1 * B) which is 4*4 matrix.\n",
    "eigenval, eigenvect = np.linalg.eig(np.linalg.inv(within_class_scattermatrix).dot(between_class_scattermatrix)) \n",
    "\n",
    "#Eigen value has shape (4,1) and eigen vector has shape (4,4). Each eigen vector has corresponding eigen value\n",
    "\n",
    "for i in range(len(eigenval)):\n",
    "    ev = eigenvect[:,i].reshape(4,1)   \n",
    "    print('\\nEigenvector {}: \\n{}'.format(i+1, ev))\n",
    "    print('Eigenvalue {:}: {:.2e}'.format(i+1, eigenval[i]))\n",
    "    "
   ]
  },
  {
   "cell_type": "markdown",
   "id": "1265bd65",
   "metadata": {},
   "source": [
    "#### Sort eigen values and get the top two projections"
   ]
  },
  {
   "cell_type": "code",
   "execution_count": 156,
   "id": "794556e3",
   "metadata": {},
   "outputs": [
    {
     "name": "stdout",
     "output_type": "stream",
     "text": [
      "Eigenvalue and Eigenvector pairs: \n",
      "\n",
      "[(0.0, array([-0.86+0.j, -0.13+0.j,  0.27+0.j,  0.42+0.j])), (3.8924168170749622, array([-0.32+0.j, -0.24+0.j,  0.5 +0.j,  0.77+0.j])), (4.855269156149336e-16, array([-0.  +0.04j,  0.92+0.j  , -0.13+0.15j,  0.01-0.34j])), (4.855269156149336e-16, array([-0.  -0.04j,  0.92-0.j  , -0.13-0.15j,  0.01+0.34j]))]\n",
      "\n",
      "\n",
      "Sorted Eigenvalue and Eigenvector pairs: \n",
      "\n",
      "[(3.8924168170749622, array([-0.32+0.j, -0.24+0.j,  0.5 +0.j,  0.77+0.j])), (4.855269156149336e-16, array([-0.  +0.04j,  0.92+0.j  , -0.13+0.15j,  0.01-0.34j])), (4.855269156149336e-16, array([-0.  -0.04j,  0.92-0.j  , -0.13-0.15j,  0.01+0.34j])), (0.0, array([-0.86+0.j, -0.13+0.j,  0.27+0.j,  0.42+0.j]))]\n",
      "\n",
      "\n",
      "Top two projection: \n",
      "\n",
      "[[0.32 0.04]\n",
      " [0.24 0.92]\n",
      " [0.5  0.2 ]\n",
      " [0.77 0.34]]\n"
     ]
    }
   ],
   "source": [
    "\n",
    "\"Sort Eigen value and eigen vector after making their pair\"\n",
    "\n",
    "# eigen value and eigen vector pair - \n",
    "ep = [(np.abs(eigenval[i]), eigenvect[:,i]) for i in range(len(eigenval))]\n",
    "print(\"Eigenvalue and Eigenvector pairs: \\n\")\n",
    "print(ep)\n",
    "print(\"\\n\")\n",
    "\n",
    "# sort eigen values( eigen values with their respective eigen vector) in descending order -\n",
    "ep1 = sorted(ep, key=lambda l: l[0], reverse=True)\n",
    "print(\"Sorted Eigenvalue and Eigenvector pairs: \\n\")\n",
    "print(ep1)\n",
    "\n",
    "\"\"\"Eigen vector with the lowest corresponding eigen value is having minimal information about the distribution.\n",
    "Therefore, we should drop such eigen vector. \n",
    "To do so, we should make eigen value-eigen vector pair and sort them in descending order of eigen values. \n",
    "Then, we shall take out first eigen vectors with their corresponding eigen values\"\"\"\n",
    "\n",
    "\n",
    "\n",
    "\"four*two dimensional eigen vector matrix which we can say as top two projections\"\n",
    "print(\"\\n\")\n",
    "top_2_eigenvect = np.hstack((abs(ep1[0][1]).reshape(4,1), abs(ep1[1][1]).reshape(4,1)))\n",
    "print(\"Top two projection: \\n\")\n",
    "print(top_2_eigenvect) \n"
   ]
  },
  {
   "cell_type": "markdown",
   "id": "c89b3223",
   "metadata": {},
   "source": [
    "#### Apply fischer projections on the test data "
   ]
  },
  {
   "cell_type": "code",
   "execution_count": 157,
   "id": "58d341cd",
   "metadata": {},
   "outputs": [
    {
     "data": {
      "text/html": [
       "<div>\n",
       "<style scoped>\n",
       "    .dataframe tbody tr th:only-of-type {\n",
       "        vertical-align: middle;\n",
       "    }\n",
       "\n",
       "    .dataframe tbody tr th {\n",
       "        vertical-align: top;\n",
       "    }\n",
       "\n",
       "    .dataframe thead th {\n",
       "        text-align: right;\n",
       "    }\n",
       "</style>\n",
       "<table border=\"1\" class=\"dataframe\">\n",
       "  <thead>\n",
       "    <tr style=\"text-align: right;\">\n",
       "      <th></th>\n",
       "      <th>projection0</th>\n",
       "      <th>projection1</th>\n",
       "      <th>classlabel</th>\n",
       "    </tr>\n",
       "  </thead>\n",
       "  <tbody>\n",
       "    <tr>\n",
       "      <th>0</th>\n",
       "      <td>7.721855</td>\n",
       "      <td>5.346783</td>\n",
       "      <td>2</td>\n",
       "    </tr>\n",
       "    <tr>\n",
       "      <th>1</th>\n",
       "      <td>7.204881</td>\n",
       "      <td>4.710954</td>\n",
       "      <td>2</td>\n",
       "    </tr>\n",
       "    <tr>\n",
       "      <th>2</th>\n",
       "      <td>6.508440</td>\n",
       "      <td>4.391101</td>\n",
       "      <td>2</td>\n",
       "    </tr>\n",
       "    <tr>\n",
       "      <th>3</th>\n",
       "      <td>7.655021</td>\n",
       "      <td>5.189084</td>\n",
       "      <td>2</td>\n",
       "    </tr>\n",
       "    <tr>\n",
       "      <th>4</th>\n",
       "      <td>6.499752</td>\n",
       "      <td>4.606059</td>\n",
       "      <td>2</td>\n",
       "    </tr>\n",
       "    <tr>\n",
       "      <th>5</th>\n",
       "      <td>5.614096</td>\n",
       "      <td>4.187166</td>\n",
       "      <td>1</td>\n",
       "    </tr>\n",
       "    <tr>\n",
       "      <th>6</th>\n",
       "      <td>6.445337</td>\n",
       "      <td>4.468897</td>\n",
       "      <td>2</td>\n",
       "    </tr>\n",
       "    <tr>\n",
       "      <th>7</th>\n",
       "      <td>7.549901</td>\n",
       "      <td>4.950372</td>\n",
       "      <td>2</td>\n",
       "    </tr>\n",
       "    <tr>\n",
       "      <th>8</th>\n",
       "      <td>5.739673</td>\n",
       "      <td>4.154419</td>\n",
       "      <td>1</td>\n",
       "    </tr>\n",
       "    <tr>\n",
       "      <th>9</th>\n",
       "      <td>6.341877</td>\n",
       "      <td>4.297056</td>\n",
       "      <td>1</td>\n",
       "    </tr>\n",
       "    <tr>\n",
       "      <th>10</th>\n",
       "      <td>8.132307</td>\n",
       "      <td>5.681880</td>\n",
       "      <td>2</td>\n",
       "    </tr>\n",
       "    <tr>\n",
       "      <th>11</th>\n",
       "      <td>5.317966</td>\n",
       "      <td>3.885522</td>\n",
       "      <td>1</td>\n",
       "    </tr>\n",
       "    <tr>\n",
       "      <th>12</th>\n",
       "      <td>7.384244</td>\n",
       "      <td>4.938215</td>\n",
       "      <td>2</td>\n",
       "    </tr>\n",
       "    <tr>\n",
       "      <th>13</th>\n",
       "      <td>5.763593</td>\n",
       "      <td>3.702915</td>\n",
       "      <td>1</td>\n",
       "    </tr>\n",
       "    <tr>\n",
       "      <th>14</th>\n",
       "      <td>6.455819</td>\n",
       "      <td>4.217830</td>\n",
       "      <td>2</td>\n",
       "    </tr>\n",
       "    <tr>\n",
       "      <th>15</th>\n",
       "      <td>4.595391</td>\n",
       "      <td>3.089653</td>\n",
       "      <td>1</td>\n",
       "    </tr>\n",
       "    <tr>\n",
       "      <th>16</th>\n",
       "      <td>5.619218</td>\n",
       "      <td>4.073991</td>\n",
       "      <td>1</td>\n",
       "    </tr>\n",
       "    <tr>\n",
       "      <th>17</th>\n",
       "      <td>7.260862</td>\n",
       "      <td>5.247416</td>\n",
       "      <td>2</td>\n",
       "    </tr>\n",
       "    <tr>\n",
       "      <th>18</th>\n",
       "      <td>7.558712</td>\n",
       "      <td>4.843243</td>\n",
       "      <td>2</td>\n",
       "    </tr>\n",
       "    <tr>\n",
       "      <th>19</th>\n",
       "      <td>6.103656</td>\n",
       "      <td>4.392788</td>\n",
       "      <td>1</td>\n",
       "    </tr>\n",
       "    <tr>\n",
       "      <th>20</th>\n",
       "      <td>5.534328</td>\n",
       "      <td>3.999229</td>\n",
       "      <td>1</td>\n",
       "    </tr>\n",
       "    <tr>\n",
       "      <th>21</th>\n",
       "      <td>5.844793</td>\n",
       "      <td>4.393130</td>\n",
       "      <td>1</td>\n",
       "    </tr>\n",
       "    <tr>\n",
       "      <th>22</th>\n",
       "      <td>6.433320</td>\n",
       "      <td>4.760922</td>\n",
       "      <td>1</td>\n",
       "    </tr>\n",
       "    <tr>\n",
       "      <th>23</th>\n",
       "      <td>6.096051</td>\n",
       "      <td>3.784400</td>\n",
       "      <td>2</td>\n",
       "    </tr>\n",
       "    <tr>\n",
       "      <th>24</th>\n",
       "      <td>6.013778</td>\n",
       "      <td>4.328221</td>\n",
       "      <td>1</td>\n",
       "    </tr>\n",
       "    <tr>\n",
       "      <th>25</th>\n",
       "      <td>6.931569</td>\n",
       "      <td>4.751585</td>\n",
       "      <td>2</td>\n",
       "    </tr>\n",
       "    <tr>\n",
       "      <th>26</th>\n",
       "      <td>6.535081</td>\n",
       "      <td>4.636442</td>\n",
       "      <td>2</td>\n",
       "    </tr>\n",
       "    <tr>\n",
       "      <th>27</th>\n",
       "      <td>6.319481</td>\n",
       "      <td>4.296911</td>\n",
       "      <td>1</td>\n",
       "    </tr>\n",
       "    <tr>\n",
       "      <th>28</th>\n",
       "      <td>5.077664</td>\n",
       "      <td>3.572254</td>\n",
       "      <td>1</td>\n",
       "    </tr>\n",
       "    <tr>\n",
       "      <th>29</th>\n",
       "      <td>7.700995</td>\n",
       "      <td>5.305679</td>\n",
       "      <td>2</td>\n",
       "    </tr>\n",
       "  </tbody>\n",
       "</table>\n",
       "</div>"
      ],
      "text/plain": [
       "    projection0  projection1  classlabel\n",
       "0      7.721855     5.346783           2\n",
       "1      7.204881     4.710954           2\n",
       "2      6.508440     4.391101           2\n",
       "3      7.655021     5.189084           2\n",
       "4      6.499752     4.606059           2\n",
       "5      5.614096     4.187166           1\n",
       "6      6.445337     4.468897           2\n",
       "7      7.549901     4.950372           2\n",
       "8      5.739673     4.154419           1\n",
       "9      6.341877     4.297056           1\n",
       "10     8.132307     5.681880           2\n",
       "11     5.317966     3.885522           1\n",
       "12     7.384244     4.938215           2\n",
       "13     5.763593     3.702915           1\n",
       "14     6.455819     4.217830           2\n",
       "15     4.595391     3.089653           1\n",
       "16     5.619218     4.073991           1\n",
       "17     7.260862     5.247416           2\n",
       "18     7.558712     4.843243           2\n",
       "19     6.103656     4.392788           1\n",
       "20     5.534328     3.999229           1\n",
       "21     5.844793     4.393130           1\n",
       "22     6.433320     4.760922           1\n",
       "23     6.096051     3.784400           2\n",
       "24     6.013778     4.328221           1\n",
       "25     6.931569     4.751585           2\n",
       "26     6.535081     4.636442           2\n",
       "27     6.319481     4.296911           1\n",
       "28     5.077664     3.572254           1\n",
       "29     7.700995     5.305679           2"
      ]
     },
     "execution_count": 157,
     "metadata": {},
     "output_type": "execute_result"
    }
   ],
   "source": [
    "lda_1=predictors_test.dot(top_2_eigenvect)\n",
    "colnames = []\n",
    "for i in range(0,2):\n",
    "    colnames.append(\"projection\" + str(i))\n",
    "lda_iris  = pd.DataFrame(data = lda_1, columns = colnames, dtype = None)\n",
    "lda_iris['classlabel'] = np.array(response_test)\n",
    "lda_iris"
   ]
  },
  {
   "cell_type": "markdown",
   "id": "0eca98fc",
   "metadata": {},
   "source": [
    "#### Plot the Projections"
   ]
  },
  {
   "cell_type": "code",
   "execution_count": 158,
   "id": "9f3c435e",
   "metadata": {},
   "outputs": [
    {
     "data": {
      "image/png": "[encoded data removed]",
      "text/plain": [
       "<Figure size 720x720 with 1 Axes>"
      ]
     },
     "metadata": {
      "needs_background": "light"
     },
     "output_type": "display_data"
    }
   ],
   "source": [
    "\"plot the projected data and label the two classes\"\n",
    "grpbylabel = lda_iris.groupby('classlabel')\n",
    "fig, ax = plt.subplots(figsize=(10, 10))\n",
    "fig.suptitle('Top two projections after FDA')\n",
    "plt.xlabel('projection0')\n",
    "plt.ylabel('projection1')\n",
    "ax.margins(0.001) # Optional, just adds 5% padding to the autoscaling\n",
    "for name, group in grpbylabel:\n",
    "    ax.plot(group.projection0, group.projection1, marker='o', linestyle='', ms=8, label=name)\n",
    "ax.legend()\n",
    "\n",
    "plt.show()\n",
    "\n"
   ]
  },
  {
   "cell_type": "markdown",
   "id": "025ce7cf",
   "metadata": {},
   "source": [
    "After looking at the plots above from both cases, we observe that when we choose 'iris-Versicolor' and 'iris-Virginica' classes, the projection plots are overlapping and class separation is difficult, whereas the class separation is perfectly evident when we choose two dissimilar classes. "
   ]
  }
 ],
 "metadata": {
  "kernelspec": {
   "display_name": "Python 3.7.13 ('python37')",
   "language": "python",
   "name": "python3"
  },
  "language_info": {
   "codemirror_mode": {
    "name": "ipython",
    "version": 3
   },
   "file_extension": ".py",
   "mimetype": "text/x-python",
   "name": "python",
   "nbconvert_exporter": "python",
   "pygments_lexer": "ipython3",
   "version": "3.7.13"
  },
  "vscode": {
   "interpreter": {
    "hash": "10dce8051da327ee61b88c8fe17efd291e825329f48596c5e04c84b84b26c2cf"
   }
  }
 },
 "nbformat": 4,
 "nbformat_minor": 5
}
